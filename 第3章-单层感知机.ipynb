{
 "cells": [
  {
   "cell_type": "markdown",
   "id": "7734a75f-708e-4f31-98c7-f2423fb29a4a",
   "metadata": {},
   "source": [
    "# 《人工神经网络理论、设计及应用》代码实践-第三章 单层感知机\n",
    "<hr>"
   ]
  },
  {
   "cell_type": "markdown",
   "id": "9fd0e175-9c58-4e64-b7d4-4bd291e5f047",
   "metadata": {},
   "source": [
    "<center>离散型单层感知机采用符号输出函数时的输出计算公式</center>\n",
    "$$O_j=sgn(net_j^{'}-T_j)=sgn(\\sum_{i=0}^{n}w_{ij}*x_{i})=sgn(W_j^T*X)$$"
   ]
  },
  {
   "cell_type": "markdown",
   "id": "a7ce097b-4b12-46a3-b635-53f9539ff41b",
   "metadata": {},
   "source": [
    "## 本章需要安装的第三方包：\n",
    "\n",
    "- pytorch（可以从官网生成适合自己操作系统、硬件的安装语句 https://pytorch.org/get-started/locally/\n",
    "- 本机没有GPU情况下，执行以下安装语句，需要restart kernel。\n",
    "```shell\n",
    "pip install torch torchvision torchaudio --index-url https://download.pytorch.org/whl/cpu\n",
    "```\n"
   ]
  },
  {
   "cell_type": "markdown",
   "id": "0917b2fb-bd2f-4910-b63b-b8e2c3cd127f",
   "metadata": {},
   "source": [
    "### 3.2 单节点感知器的功能分析"
   ]
  },
  {
   "cell_type": "markdown",
   "id": "33092a24-7e0a-4a0a-905b-6ece2db49c32",
   "metadata": {},
   "source": [
    "#### Page44中图3.4“与”逻辑神经元的代码实现"
   ]
  },
  {
   "cell_type": "code",
   "execution_count": 2,
   "id": "c84a3f67-1103-4998-8579-3f93e10433c2",
   "metadata": {},
   "outputs": [
    {
     "name": "stdout",
     "output_type": "stream",
     "text": [
      "\n",
      "---------------------AND---------------------\n",
      "input x0、x1: 0.0 0.0  out1: 0\n",
      "input x0、x1: 0.0 1.0  out2: 0\n",
      "input x0、x1: 1.0 0.0  out3: 0\n",
      "input x0、x1: 1.0 1.0  out4: 1\n",
      "\n",
      "---------------------OR---------------------\n",
      "input x0、x1: 0.0 0.0  out1: 0\n",
      "input x0、x1: 0.0 1.0  out2: 1\n",
      "input x0、x1: 1.0 0.0  out3: 1\n",
      "input x0、x1: 1.0 1.0  out4: 1\n",
      "\n",
      "---------------------NAND---------------------\n",
      "input x0、x1: 0.0 0.0  out1: 1\n",
      "input x0、x1: 0.0 1.0  out2: 1\n",
      "input x0、x1: 1.0 0.0  out3: 1\n",
      "input x0、x1: 1.0 1.0  out4: 0\n"
     ]
    }
   ],
   "source": [
    "# Page44中图3.4“与”逻辑神经元的代码实现，扩展了OR、NAND两个逻辑\n",
    "# 同样的算法，不同的权值、偏置就能实现三个不同逻辑的输入、输出映射\n",
    "\n",
    "def sgn(x):\n",
    "    return 1 if x>0 else 0 #这里采用0、1输出，而不是前面的-1、1输出\n",
    "        \n",
    "print()\n",
    "print(\"---------------------AND---------------------\")\n",
    "w0,w1 = 0.5,0.5\n",
    "bias= 0.75\n",
    "\n",
    "# 以下代码中四个输入其实都是重复使用同一个算式：sgn(x0*w0+x1*w1-bias)。\n",
    "x0,x1 = 0.0,0.0\n",
    "print(\"input x0、x1:\",x0,x1,end='')\n",
    "print(\"  out1:\",sgn(x0*w0+x1*w1-bias))\n",
    "\n",
    "x0,x1 = 0.0,1.0\n",
    "print(\"input x0、x1:\",x0,x1,end='')\n",
    "print(\"  out2:\",sgn(x0*w0+x1*w1-bias))\n",
    "\n",
    "x0,x1 = 1.0,0.0\n",
    "print(\"input x0、x1:\",x0,x1,end='')\n",
    "print(\"  out3:\",sgn(x0*w0+x1*w1-bias))\n",
    "\n",
    "x0,x1 = 1.0,1.0\n",
    "print(\"input x0、x1:\",x0,x1,end='')\n",
    "print(\"  out4:\",sgn(x0*w0+x1*w1-bias))\n",
    "\n",
    "# 以下扩展了几个其它逻辑，算法完全相同，证明权值、偏置值不同，相同网络结构、计算方法可以反映不同逻辑响应。\n",
    "print()\n",
    "print(\"---------------------OR---------------------\")\n",
    "w0,w1 = 0.5,0.5\n",
    "bias = 0.25\n",
    "\n",
    "x0,x1 = 0.0,0.0\n",
    "print(\"input x0、x1:\",x0,x1,end='')\n",
    "print(\"  out1:\",sgn(x0*w0+x1*w1-bias))\n",
    "\n",
    "x0,x1 = 0.0,1.0\n",
    "print(\"input x0、x1:\",x0,x1,end='')\n",
    "print(\"  out2:\",sgn(x0*w0+x1*w1-bias))\n",
    "\n",
    "x0,x1 = 1.0,0.0\n",
    "print(\"input x0、x1:\",x0,x1,end='')\n",
    "print(\"  out3:\",sgn(x0*w0+x1*w1-bias))\n",
    "\n",
    "x0,x1 = 1.0,1.0\n",
    "print(\"input x0、x1:\",x0,x1,end='')\n",
    "print(\"  out4:\",sgn(x0*w0+x1*w1-bias))\n",
    "\n",
    "print()\n",
    "print(\"---------------------NAND---------------------\")\n",
    "w0,w1 = -0.5,-0.5\n",
    "bias = -0.75\n",
    "\n",
    "x0,x1 = 0.0,0.0\n",
    "print(\"input x0、x1:\",x0,x1,end='')\n",
    "print(\"  out1:\",sgn(x0*w0+x1*w1-bias))\n",
    "\n",
    "x0,x1 = 0.0,1.0\n",
    "print(\"input x0、x1:\",x0,x1,end='')\n",
    "print(\"  out2:\",sgn(x0*w0+x1*w1-bias))\n",
    "\n",
    "x0,x1 = 1.0,0.0\n",
    "print(\"input x0、x1:\",x0,x1,end='')\n",
    "print(\"  out3:\",sgn(x0*w0+x1*w1-bias))\n",
    "\n",
    "x0,x1 = 1.0,1.0\n",
    "print(\"input x0、x1:\",x0,x1,end='')\n",
    "print(\"  out4:\",sgn(x0*w0+x1*w1-bias))"
   ]
  },
  {
   "cell_type": "markdown",
   "id": "608b41df-1f05-49d0-986e-e9920ca86df6",
   "metadata": {},
   "source": [
    "#### Page44中图3.4“与”逻辑神经元的代码实现（numpy数组方式、点积计算）"
   ]
  },
  {
   "cell_type": "code",
   "execution_count": 3,
   "id": "cd6cb626-4272-4d44-bacb-66fe0e466d61",
   "metadata": {},
   "outputs": [
    {
     "name": "stdout",
     "output_type": "stream",
     "text": [
      "\n",
      "---------------------AND---------------------\n",
      "input X:\n",
      " [[0 0]\n",
      " [0 1]\n",
      " [1 0]\n",
      " [1 1]]\n",
      "outputs: [0 0 0 1]\n",
      "\n",
      "---------------------OR---------------------\n",
      "input X:\n",
      " [[0 0]\n",
      " [0 1]\n",
      " [1 0]\n",
      " [1 1]]\n",
      "outputs: [0 1 1 1]\n",
      "\n",
      "---------------------NAND---------------------\n",
      "input X:\n",
      " [[0 0]\n",
      " [0 1]\n",
      " [1 0]\n",
      " [1 1]]\n",
      "outputs: [1 1 1 0]\n"
     ]
    }
   ],
   "source": [
    "# Page44中图3.4“与”逻辑神经元的代码实现（numpy数组方式、点积计算）\n",
    "# 相比前面代码更简明、灵活\n",
    "\n",
    "import numpy as np\n",
    "X = np.array([[0,0],[0,1],[1,0],[1,1]])\n",
    "bias = 0.0\n",
    "W = np.array([0.5,0.5])\n",
    "\n",
    "def sgn(x):\n",
    "    return (x>0).astype(int) #较前面代码，为了一次返回多个结果，进行了写法修改，逻辑相同\n",
    "        \n",
    "print()\n",
    "print(\"---------------------AND---------------------\")\n",
    "bias = 0.75\n",
    "print(\"input X:\\n\",X)\n",
    "print(\"outputs:\",sgn(np.dot(W,X.T)-bias))\n",
    "\n",
    "print()\n",
    "print(\"---------------------OR---------------------\")\n",
    "bias = 0.25\n",
    "print(\"input X:\\n\",X)\n",
    "print(\"outputs:\",sgn(np.dot(W,X.T)-bias))\n",
    "\n",
    "print()\n",
    "print(\"---------------------NAND---------------------\")\n",
    "W = np.array([-0.5,-0.5])\n",
    "bias = - 0.75\n",
    "print(\"input X:\\n\",X)\n",
    "print(\"outputs:\",sgn(np.dot(W,X.T)-bias))\n"
   ]
  },
  {
   "cell_type": "markdown",
   "id": "56902c56-5acb-48e3-86ad-89eec56fd6b4",
   "metadata": {},
   "source": [
    "#### Page44 3.4,单层感知机解决AND、OR、NAND问题时的二维权值超平面移动可视化"
   ]
  },
  {
   "cell_type": "code",
   "execution_count": null,
   "id": "a0ef33d7-4cd7-45b2-9864-d63d7b00b345",
   "metadata": {},
   "outputs": [],
   "source": [
    "# Page44中图3.4“与”逻辑神经元的代码实现，可以手动调节权值、偏置，可视化观察权值超平面移动对于输入数据集的空间分隔\n",
    "\n",
    "import numpy as np\n",
    "import matplotlib.pyplot as plt\n",
    "from matplotlib.widgets import Slider\n",
    "from matplotlib.colors import ListedColormap\n",
    "%matplotlib qt5\n",
    "\n",
    "# 定义感知器类\n",
    "class Perceptron:\n",
    "    def __init__(self, weights=np.array([0.0, 0.0]), bias=0.0):\n",
    "        self.weights = weights\n",
    "        self.bias = bias\n",
    "    \n",
    "    def predict(self, X):\n",
    "        linear_output = np.dot(X, self.weights) + self.bias\n",
    "        return np.where(linear_output >= 0, 1, 0)\n",
    "    \n",
    "    def decision_boundary(self, x):\n",
    "        \"\"\"返回给定x值对应的决策边界y值\"\"\"\n",
    "        if self.weights[1] == 0:  # 防止除以零\n",
    "            return None\n",
    "        return (-self.weights[0] * x - self.bias) / self.weights[1]\n",
    "\n",
    "# 创建AND逻辑门的数据点\n",
    "X = np.array([[0, 0], [0, 1], [1, 0], [1, 1]])\n",
    "y = np.array([0, 0, 0, 1])\n",
    "\n",
    "# 初始化感知器\n",
    "p = Perceptron(weights=np.array([1.0, 1.0]), bias=-1.5)\n",
    "\n",
    "# 设置颜色映射\n",
    "cmap = ListedColormap(['red', 'blue'])\n",
    "\n",
    "# 创建图形\n",
    "fig, ax = plt.subplots(figsize=(8, 6))\n",
    "plt.subplots_adjust(left=0.25, bottom=0.35)\n",
    "\n",
    "# 绘制数据点及其标签\n",
    "scatter = ax.scatter(X[:, 0], X[:, 1], c=y, cmap=cmap, marker='o', edgecolor='k', s=100)\n",
    "for i, point in enumerate(X):\n",
    "    ax.text(point[0] + 0.05, point[1] + 0.05, f'({point[0]}, {point[1]})', fontsize=9, ha='center')\n",
    "\n",
    "# 绘制初始决策边界\n",
    "x_min, x_max = X[:, 0].min() - 1, X[:, 0].max() + 1\n",
    "y_min, y_max = X[:, 1].min() - 1, X[:, 1].max() + 1\n",
    "xx = np.linspace(x_min, x_max, 100)\n",
    "yy = p.decision_boundary(xx)\n",
    "if yy is not None:\n",
    "    line, = ax.plot(xx, yy, 'r--', lw=2, label='Decision Boundary')\n",
    "\n",
    "# 使用 quiver 绘制初始权重向量箭头\n",
    "weight_vector = ax.quiver(0, 0, p.weights[0], p.weights[1], angles='xy', scale_units='xy', scale=1, color='green', label='Weight Vector')\n",
    "\n",
    "# 设置图表属性\n",
    "ax.set_xlim(x_min, x_max)\n",
    "ax.set_ylim(y_min, y_max)\n",
    "ax.set_aspect('equal')  # 设置坐标轴比例为1:1\n",
    "ax.set_xlabel('Input 1')\n",
    "ax.set_ylabel('Input 2')\n",
    "ax.set_title('Perceptron for AND_OR_NAND Logic Gate')\n",
    "ax.legend()\n",
    "ax.grid(True)\n",
    "\n",
    "# 创建滑动条轴\n",
    "ax_w1 = plt.axes([0.25, 0.2, 0.65, 0.03])\n",
    "ax_w2 = plt.axes([0.25, 0.15, 0.65, 0.03])\n",
    "ax_b = plt.axes([0.25, 0.1, 0.65, 0.03])\n",
    "\n",
    "# 创建滑动条\n",
    "s_w1 = Slider(ax_w1, 'Weight 1', -3.0, 3.0, valinit=p.weights[0], valstep=0.1)\n",
    "s_w2 = Slider(ax_w2, 'Weight 2', -3.0, 3.0, valinit=p.weights[1], valstep=0.1)\n",
    "s_b = Slider(ax_b, 'Bias', -3.0, 3.0, valinit=p.bias, valstep=0.1)\n",
    "\n",
    "def update(val):\n",
    "    w1 = s_w1.val\n",
    "    w2 = s_w2.val\n",
    "    b = s_b.val\n",
    "    \n",
    "    # 更新感知器参数\n",
    "    p.weights = np.array([w1, w2])\n",
    "    p.bias = b\n",
    "    \n",
    "    # 更新决策边界\n",
    "    yy = p.decision_boundary(xx)\n",
    "    if yy is not None:\n",
    "        line.set_ydata(yy)\n",
    "    \n",
    "    # 更新权重向量箭头\n",
    "    weight_vector.set_UVC(w1, w2)  # 更新箭头的方向\n",
    "    \n",
    "    # 更新数据点颜色\n",
    "    predictions = p.predict(X)\n",
    "    scatter.set_array(predictions)\n",
    "    \n",
    "    fig.canvas.draw_idle()\n",
    "\n",
    "# 将更新函数绑定到滑动条\n",
    "s_w1.on_changed(update)\n",
    "s_w2.on_changed(update)\n",
    "s_b.on_changed(update)\n",
    "\n",
    "plt.show()"
   ]
  },
  {
   "cell_type": "markdown",
   "id": "9ffe55b0-3eae-4f0c-b504-5395d04fe90b",
   "metadata": {},
   "source": [
    "#### Page45 例3.1的代码实现"
   ]
  },
  {
   "cell_type": "code",
   "execution_count": 1,
   "id": "9a848749-ef4b-4ce0-9627-f31398798b39",
   "metadata": {},
   "outputs": [
    {
     "name": "stdout",
     "output_type": "stream",
     "text": [
      "请输入权值和偏置的初始值（例如，权值: [0, 0]，偏置: 0）\n"
     ]
    },
    {
     "name": "stdin",
     "output_type": "stream",
     "text": [
      "权值（以逗号分隔，例如 0,0）:  -1,0\n",
      "偏置:  -0.5\n"
     ]
    },
    {
     "name": "stdout",
     "output_type": "stream",
     "text": [
      "初始权值: [-1.  0.]\n",
      "初始偏置: -0.5\n",
      "初始参数已经能够正确分类所有样本，无需训练。\n"
     ]
    },
    {
     "data": {
      "image/png": "[encoded data removed]",
      "text/plain": [
       "<Figure size 800x800 with 1 Axes>"
      ]
     },
     "metadata": {},
     "output_type": "display_data"
    },
    {
     "name": "stdout",
     "output_type": "stream",
     "text": [
      "训练后的权值与偏置： 权值: [-1.  0.] 偏置: -0.5\n"
     ]
    }
   ],
   "source": [
    "# Page45 例3.1的代码实现\n",
    "# 书中手动输入的权值是：-1,0 偏置是0.5,在这个程序里由于训练代码写法差异偏置需要修改为-0.5\n",
    "\n",
    "import numpy as np\n",
    "import matplotlib.pyplot as plt\n",
    "from matplotlib.patches import FancyArrowPatch\n",
    "\n",
    "# 给定的数据\n",
    "X = np.array([[-1, 1], [-1, -1], [0, 0], [1, 0]])  # 输入数据\n",
    "Y = np.array([1, 1, -1, -1])  # 指导数据（标签），修正了标签数量以匹配输入数量\n",
    "Test = np.array([[-2, 0], [1, 1], [0, 1], [-1, -2]])  # 测试数据\n",
    "\n",
    "# 允许用户手动设定权值和偏置\n",
    "def initialize_parameters():\n",
    "    print(\"请输入权值和偏置的初始值（例如，权值: [0, 0]，偏置: 0）\")\n",
    "    W_input = input(\"权值（以逗号分隔，例如 0,0）: \")\n",
    "    bias_input = input(\"偏置: \")\n",
    "    \n",
    "    # 将输入转换为数值\n",
    "    W = np.array([float(w) for w in W_input.split(',')])\n",
    "    bias = float(bias_input)\n",
    "    \n",
    "    return W, bias\n",
    "\n",
    "# 检查初始参数是否能够正确分类所有样本\n",
    "def check_initial_parameters(X, Y, W, bias):\n",
    "    all_correct = True\n",
    "    for i, x in enumerate(X):\n",
    "        net_input = np.dot(x, W) + bias\n",
    "        prediction = 1 if net_input > 0 else -1\n",
    "        if prediction != Y[i]:\n",
    "            all_correct = False\n",
    "            break\n",
    "    return all_correct\n",
    "\n",
    "# 初始化参数\n",
    "W, bias = initialize_parameters()\n",
    "print(\"初始权值:\", W)\n",
    "print(\"初始偏置:\", bias)\n",
    "\n",
    "# 检查初始参数是否已经能够正确分类所有样本\n",
    "if check_initial_parameters(X, Y, W, bias):\n",
    "    print(\"初始参数已经能够正确分类所有样本，无需训练。\")\n",
    "else:\n",
    "    print(\"初始参数未能正确分类所有样本，开始训练...\")\n",
    "    learning_rate = 1  # 学习率设置为1，因为这是感知器的标准学习规则\n",
    "\n",
    "    # 激活函数（阶跃函数）\n",
    "    def activation_function(z):\n",
    "        return 1 if z > 0 else -1\n",
    "\n",
    "    # 训练函数\n",
    "    def train_perceptron(X, Y, W, bias, learning_rate, epochs=100):\n",
    "        for epoch in range(epochs):\n",
    "            all_correct = True\n",
    "            for i, x in enumerate(X):\n",
    "                net_input = np.dot(x, W) + bias\n",
    "                prediction = activation_function(net_input)\n",
    "                if prediction != Y[i]:\n",
    "                    all_correct = False\n",
    "                    update = learning_rate * (Y[i] - prediction)\n",
    "                    W += update * x\n",
    "                    bias += update\n",
    "            if all_correct:\n",
    "                print(f\"所有样本在第 {epoch + 1} 轮中均正确分类，提前结束训练\")\n",
    "                break\n",
    "        return W, bias\n",
    "\n",
    "    # 开始训练\n",
    "    W, bias = train_perceptron(X, Y, W, bias, learning_rate)\n",
    "\n",
    "# 准备绘图\n",
    "fig, ax = plt.subplots(figsize=(8, 8))\n",
    "ax.set_xlim([-5, 2])\n",
    "ax.set_ylim([-5, 2])\n",
    "ax.axhline(0, color='black', linewidth=0.5)\n",
    "ax.axvline(0, color='black', linewidth=0.5)\n",
    "ax.grid(color='gray', linestyle='--', linewidth=0.2)\n",
    "\n",
    "# 绘制训练数据点\n",
    "colors = ['blue' if yi == 1 else 'red' for yi in Y]\n",
    "scatter = ax.scatter(X[:, 0], X[:, 1], c=colors, marker='o', s=100)\n",
    "\n",
    "# 标注训练数据点的编号和序号\n",
    "for i, txt in enumerate(['Train 1', 'Train 2', 'Train 3', 'Train 4']):\n",
    "    ax.annotate(txt, (X[i, 0], X[i, 1]), textcoords=\"offset points\", xytext=(0,10), ha='center')\n",
    "\n",
    "# 绘制测试数据点\n",
    "test_colors = ['green'] * len(Test)\n",
    "test_scatter = ax.scatter(Test[:, 0], Test[:, 1], c=test_colors, marker='x', s=100)\n",
    "\n",
    "# 标注测试数据点的编号和序号\n",
    "for i, txt in enumerate(['Test 1', 'Test 2', 'Test 3', 'Test 4']):\n",
    "    ax.annotate(txt, (Test[i, 0], Test[i, 1]), textcoords=\"offset points\", xytext=(0,10), ha='center')\n",
    "\n",
    "# 绘制超平面\n",
    "x_values = np.linspace(-3, 2, 100)\n",
    "if W[1] != 0:\n",
    "    y_values = (-W[0] * x_values - bias) / W[1]\n",
    "else:\n",
    "    # 当 W[1] = 0 时，超平面是一条垂直于 x 轴的直线\n",
    "    x_values = np.full_like(x_values, -bias / W[0])  # x = -b / W[0]\n",
    "    y_values = np.linspace(-5, 2, 100)  # y 可以是任意值\n",
    "ax.plot(x_values, y_values, color='orange', lw=2, label='Decision Boundary')\n",
    "\n",
    "# 绘制权值向量箭头\n",
    "arrow = FancyArrowPatch((0, 0), (W[0], W[1]), mutation_scale=20, arrowstyle='->', color='purple')\n",
    "ax.add_patch(arrow)\n",
    "\n",
    "# 添加图例\n",
    "plt.legend()\n",
    "plt.title('Perceptron Training Data and Decision Boundary')\n",
    "plt.xlabel('Feature 1')\n",
    "plt.ylabel('Feature 2')\n",
    "\n",
    "plt.show()\n",
    "\n",
    "# 打印训练后的权值和偏置\n",
    "print(\"训练后的权值与偏置：\", \"权值:\", W, \"偏置:\", bias)"
   ]
  },
  {
   "cell_type": "markdown",
   "id": "fbe0f052-fb80-4cea-8b3e-117f11b10bd4",
   "metadata": {},
   "source": [
    "#### Page46 例3.2的代码实现（增加了两个神经元权值向量和垂直于它们的超平面关系可视化）"
   ]
  },
  {
   "cell_type": "code",
   "execution_count": 2,
   "id": "0034db31-8907-4d0e-9003-1d7bd9c3c644",
   "metadata": {},
   "outputs": [
    {
     "data": {
      "image/png": "[encoded data removed]",
      "text/plain": [
       "<Figure size 800x800 with 1 Axes>"
      ]
     },
     "metadata": {},
     "output_type": "display_data"
    },
    {
     "name": "stdout",
     "output_type": "stream",
     "text": [
      "训练后的权值与偏置：\n",
      "神经元 1: 权值: [-5.92137322 -0.34745301], 偏置: 0.35278045770878474\n",
      "神经元 2: 权值: [ 1.95963772 -7.13927167], 偏置: 0.7399380304388925\n"
     ]
    }
   ],
   "source": [
    "# Page46 例3.2（增加了两个神经元权值向量和垂直于它们的超平面关系可视化）\n",
    "\n",
    "# 可以看出，输入数据被两个神经元的两个超平面分隔成了4各区域，符合书中说M个同一层神经元可以分类2的M次方个类别。\n",
    "\n",
    "import numpy as np\n",
    "import matplotlib.pyplot as plt\n",
    "from matplotlib.patches import FancyArrowPatch\n",
    "\n",
    "# 给定的数据\n",
    "X = np.array([[1, 1], [1, 2], [2, -1], [2, 0], [-1, 2], [-2, 1], [-1, -1], [-2, -2]])\n",
    "Y_binary = np.array([[0,0],[0,0],[0,1],[0,1],[1,0],[1,0],[1,1],[1,1]])  # 二进制编码的标签\n",
    "\n",
    "# 初始化参数\n",
    "num_neurons = Y_binary.shape[1]  # 使用两个神经元\n",
    "W = np.zeros((num_neurons, X.shape[1]))  # 每个神经元的权值初始化为零\n",
    "bias = np.zeros(num_neurons)  # 每个神经元的偏置初始化为零\n",
    "learning_rate = 0.1  # 设置学习率为0.1\n",
    "\n",
    "# 激活函数（Sigmoid函数）\n",
    "def activation_function(z):\n",
    "    return 1 / (1 + np.exp(-z))\n",
    "\n",
    "# 训练函数（针对每个输出维度的二分类问题）\n",
    "def train_logistic_regression(X, Y_class, W_class, bias_class, learning_rate, epochs=1000):\n",
    "    for epoch in range(epochs):\n",
    "        for i, x in enumerate(X):\n",
    "            z = np.dot(W_class, x) + bias_class\n",
    "            prediction = activation_function(z)\n",
    "            error = prediction - Y_class[i]\n",
    "            update = learning_rate * error\n",
    "            W_class -= update * x\n",
    "            bias_class -= update\n",
    "    return W_class, bias_class\n",
    "\n",
    "# 对每个输出维度训练逻辑回归\n",
    "for neuron_idx in range(num_neurons):\n",
    "    W[neuron_idx], bias[neuron_idx] = train_logistic_regression(X, Y_binary[:, neuron_idx], W[neuron_idx], bias[neuron_idx], learning_rate)\n",
    "\n",
    "# 准备绘图\n",
    "fig, ax = plt.subplots(figsize=(8, 8))\n",
    "ax.set_xlim([-8, 8])\n",
    "ax.set_ylim([-8, 8])\n",
    "ax.axhline(0, color='black', linewidth=0.5)\n",
    "ax.axvline(0, color='black', linewidth=0.5)\n",
    "ax.grid(color='gray', linestyle='--', linewidth=0.2)\n",
    "\n",
    "# 定义类别到颜色和形状的映射\n",
    "color_map = ['blue', 'green', 'red', 'purple']\n",
    "marker_map = ['o', 's', '^', 'D']  # 圆形、正方形、三角形、菱形\n",
    "\n",
    "# 将二进制编码转换为类别索引 (00 -> 0, 01 -> 1, 10 -> 2, 11 -> 3)\n",
    "Y_labels = np.dot(Y_binary, [1, 2])\n",
    "\n",
    "# 绘制数据点\n",
    "for i in range(len(X)):\n",
    "    ax.scatter(X[i, 0], X[i, 1], c=color_map[Y_labels[i]], s=100, edgecolors='k', marker=marker_map[Y_labels[i]])\n",
    "    ax.annotate(f'Point {i+1}', (X[i, 0], X[i, 1]), textcoords=\"offset points\", xytext=(0,10), ha='center')\n",
    "\n",
    "# 绘制每个神经元的超平面和权值向量\n",
    "x_values = np.linspace(-3, 3, 100)\n",
    "for neuron_idx in range(num_neurons):\n",
    "    W_neuron = W[neuron_idx]\n",
    "    bias_neuron = bias[neuron_idx]\n",
    "\n",
    "    # 绘制超平面\n",
    "    if W_neuron[1] != 0:\n",
    "        y_values = (-W_neuron[0] * x_values - bias_neuron) / W_neuron[1]\n",
    "    elif W_neuron[0] != 0:\n",
    "        y_values = np.full_like(x_values, -bias_neuron/W_neuron[0])\n",
    "    else:\n",
    "        y_values = np.full_like(x_values, 0)  # 如果权重都是0，默认为水平线\n",
    "    ax.plot(x_values, y_values, label=f'Decision Boundary Neuron {neuron_idx+1}', linestyle='--')\n",
    "\n",
    "    # 绘制权值向量箭头\n",
    "    arrow = FancyArrowPatch((0, 0), (W_neuron[0], W_neuron[1]), mutation_scale=20, \n",
    "                            arrowstyle='->', color=color_map[neuron_idx])\n",
    "    ax.add_patch(arrow)\n",
    "\n",
    "# 添加图例\n",
    "legend_elements = [plt.Line2D([0], [0], marker=marker_map[i], color='w', label=f'Class {format(i, \"02b\")}',\n",
    "                              markerfacecolor=color_map[i], markersize=10) for i in range(len(color_map))]\n",
    "ax.legend(handles=legend_elements + [plt.Line2D([0], [0], linestyle='--', color='black', label='Decision Boundaries')])\n",
    "\n",
    "plt.title('Training Data Distribution with Decision Boundaries and Weight Vectors')\n",
    "plt.xlabel('Feature 1')\n",
    "plt.ylabel('Feature 2')\n",
    "\n",
    "plt.show()\n",
    "\n",
    "# 打印训练后的权值和偏置\n",
    "print(\"训练后的权值与偏置：\")\n",
    "for i in range(num_neurons):\n",
    "    print(f\"神经元 {i+1}: 权值: {W[i]}, 偏置: {bias[i]}\")"
   ]
  },
  {
   "cell_type": "markdown",
   "id": "1025d412-cbfa-4a06-b04a-a87a514fbda8",
   "metadata": {},
   "source": [
    "### 3.3 感知器的学习算法"
   ]
  },
  {
   "cell_type": "markdown",
   "id": "bf00b4f5-78d7-4683-8a30-41eb2907bf34",
   "metadata": {},
   "source": [
    "#### Page47 例3.3计算过程的代码实现"
   ]
  },
  {
   "cell_type": "code",
   "execution_count": 7,
   "id": "1fbc1bf0-e6e6-4826-8a88-705ebeaf2986",
   "metadata": {},
   "outputs": [
    {
     "data": {
      "text/latex": [
       "$\\displaystyle W^T(0)X^1=2.5$"
      ],
      "text/plain": [
       "<IPython.core.display.Math object>"
      ]
     },
     "metadata": {},
     "output_type": "display_data"
    },
    {
     "name": "stdout",
     "output_type": "stream",
     "text": [
      "O1(0): 1.0\n",
      "W(1): [ 0.7  0.8 -0.6  0. ]\n",
      "\n"
     ]
    },
    {
     "data": {
      "text/latex": [
       "$\\displaystyle W^T(0)X^1=-1.6$"
      ],
      "text/plain": [
       "<IPython.core.display.Math object>"
      ]
     },
     "metadata": {},
     "output_type": "display_data"
    },
    {
     "name": "stdout",
     "output_type": "stream",
     "text": [
      "O1(1): 1.0\n",
      "W(2): [ 0.7  0.8 -0.6  0. ]\n",
      "\n"
     ]
    },
    {
     "data": {
      "text/latex": [
       "$\\displaystyle W^T(0)X^1=-2.1$"
      ],
      "text/plain": [
       "<IPython.core.display.Math object>"
      ]
     },
     "metadata": {},
     "output_type": "display_data"
    },
    {
     "name": "stdout",
     "output_type": "stream",
     "text": [
      "O1(2): -1.0\n",
      "W(3): [ 0.5  0.6 -0.4  0.1]\n",
      "\n"
     ]
    }
   ],
   "source": [
    "# Page47 例3.3计算过程代码实现\n",
    "\n",
    "import numpy as np\n",
    "from IPython.display import Math #支持输出内容中的数序符号渲染\n",
    "\n",
    "#输入数据\n",
    "x1=np.array([-1,1,-2,0])\n",
    "x2=np.array([-1,0,1.5,-0.5])\n",
    "x3=np.array([-1,-1,1,0.5])\n",
    "# 指导数据\n",
    "d1=np.array([-1])\n",
    "d2=np.array([-1])\n",
    "d3=np.array([1])\n",
    "\n",
    "# 学习率\n",
    "lr=0.1\n",
    "# 初始权重\n",
    "W=np.array([0.5,1,-1,0])\n",
    "\n",
    "# step 1\n",
    "WX1=np.dot(W,x1)\n",
    "display(Math(fr'W^T(0)X^1={WX1:.1f}'))# 为了显示数学符号，采用了支持数学符号渲染的方法，根本上只是要打印WX1的值（也就是权重和输入向量的点积）\n",
    "o1=np.sign(WX1)\n",
    "print(\"O1(0):\",o1)\n",
    "W+=lr*(d1-o1)*x1\n",
    "print(\"W(1):\",W)\n",
    "print()\n",
    "\n",
    "# step 2\n",
    "WX2=np.dot(W,x2)\n",
    "display(Math(fr'W^T(0)X^1={WX2:.1f}'))\n",
    "o2=np.sign(WX2)\n",
    "print(\"O1(1):\",o1)\n",
    "W+=lr*(d2-o2)*x2\n",
    "print(\"W(2):\",W)\n",
    "print()\n",
    "\n",
    "# step 3\n",
    "WX3=np.dot(W,x3)\n",
    "display(Math(fr'W^T(0)X^1={WX3:.1f}'))\n",
    "o3=np.sign(WX3)\n",
    "print(\"O1(2):\",o3)\n",
    "W+=lr*(d3-o3)*x3\n",
    "print(\"W(3):\",W)\n",
    "print()\n",
    "\n",
    "# step 4\n",
    "#......"
   ]
  },
  {
   "cell_type": "markdown",
   "id": "cc947492-c95c-4b54-b16c-49680685db11",
   "metadata": {},
   "source": [
    "#### 上面逻辑的验证程序-连续求解直到符合全部期望"
   ]
  },
  {
   "cell_type": "code",
   "execution_count": 8,
   "id": "3260b048-822d-4190-8499-ff17e529ba77",
   "metadata": {},
   "outputs": [
    {
     "data": {
      "text/html": [
       "<span style=\"color: #888888;\">Epoch 0: Update weights with delta_W: [ 0.2 -0.2  0.4 -0. ]</span>"
      ],
      "text/plain": [
       "<IPython.core.display.HTML object>"
      ]
     },
     "metadata": {},
     "output_type": "display_data"
    },
    {
     "name": "stdout",
     "output_type": "stream",
     "text": [
      "Updated weights: [ 0.7  0.8 -0.6  0. ]\n",
      "-----------------------------------------------------------\n"
     ]
    },
    {
     "data": {
      "text/html": [
       "<span style=\"color: #888888;\">Epoch 0: Update weights with delta_W: [-0.2 -0.2  0.2  0.1]</span>"
      ],
      "text/plain": [
       "<IPython.core.display.HTML object>"
      ]
     },
     "metadata": {},
     "output_type": "display_data"
    },
    {
     "name": "stdout",
     "output_type": "stream",
     "text": [
      "Updated weights: [ 0.5  0.6 -0.4  0.1]\n",
      "-----------------------------------------------------------\n"
     ]
    },
    {
     "data": {
      "text/html": [
       "<span style=\"color: #888888;\">Epoch 1: Update weights with delta_W: [ 0.2 -0.2  0.4 -0. ]</span>"
      ],
      "text/plain": [
       "<IPython.core.display.HTML object>"
      ]
     },
     "metadata": {},
     "output_type": "display_data"
    },
    {
     "name": "stdout",
     "output_type": "stream",
     "text": [
      "Updated weights: [0.7 0.4 0.  0.1]\n",
      "-----------------------------------------------------------\n"
     ]
    },
    {
     "data": {
      "text/html": [
       "<span style=\"color: #888888;\">Epoch 1: Update weights with delta_W: [-0.2 -0.2  0.2  0.1]</span>"
      ],
      "text/plain": [
       "<IPython.core.display.HTML object>"
      ]
     },
     "metadata": {},
     "output_type": "display_data"
    },
    {
     "name": "stdout",
     "output_type": "stream",
     "text": [
      "Updated weights: [0.5 0.2 0.2 0.2]\n",
      "-----------------------------------------------------------\n"
     ]
    },
    {
     "data": {
      "text/html": [
       "<span style=\"color: #888888;\">Epoch 2: Update weights with delta_W: [-0.2 -0.2  0.2  0.1]</span>"
      ],
      "text/plain": [
       "<IPython.core.display.HTML object>"
      ]
     },
     "metadata": {},
     "output_type": "display_data"
    },
    {
     "name": "stdout",
     "output_type": "stream",
     "text": [
      "Updated weights: [0.3 0.  0.4 0.3]\n",
      "-----------------------------------------------------------\n"
     ]
    },
    {
     "data": {
      "text/html": [
       "<span style=\"color: #888888;\">Epoch 3: Update weights with delta_W: [ 0.2 -0.  -0.3  0.1]</span>"
      ],
      "text/plain": [
       "<IPython.core.display.HTML object>"
      ]
     },
     "metadata": {},
     "output_type": "display_data"
    },
    {
     "name": "stdout",
     "output_type": "stream",
     "text": [
      "Updated weights: [0.5 0.  0.1 0.4]\n",
      "-----------------------------------------------------------\n"
     ]
    },
    {
     "data": {
      "text/html": [
       "<span style=\"color: #888888;\">Epoch 3: Update weights with delta_W: [-0.2 -0.2  0.2  0.1]</span>"
      ],
      "text/plain": [
       "<IPython.core.display.HTML object>"
      ]
     },
     "metadata": {},
     "output_type": "display_data"
    },
    {
     "name": "stdout",
     "output_type": "stream",
     "text": [
      "Updated weights: [ 0.3 -0.2  0.3  0.5]\n",
      "-----------------------------------------------------------\n",
      "Training completed in 5 epochs.\n",
      "Input 1, Output: -1.0, Expected: -1\n",
      "Input 2, Output: -1.0, Expected: -1\n",
      "Input 3, Output: 1.0, Expected: 1\n"
     ]
    }
   ],
   "source": [
    "# 上面逻辑的验证程序-连续求解直到符合全部期望\n",
    "\n",
    "import numpy as np\n",
    "from IPython.display import display, HTML\n",
    "\n",
    "np.set_printoptions(precision=3, suppress=True)  # 为防止计算过程中精度导致的输出位数过长，suppress=True 防止科学记数法\n",
    "\n",
    "# 输入数据\n",
    "X = np.array([\n",
    "    [-1, 1, -2, 0],   # x1\n",
    "    [-1, 0, 1.5, -0.5], # x2\n",
    "    [-1, -1, 1, 0.5]  # x3\n",
    "])\n",
    "\n",
    "# 指导数据\n",
    "D = np.array([-1, -1, 1])  # d1, d2, d3\n",
    "\n",
    "# 学习率\n",
    "lr = 0.1\n",
    "\n",
    "# 初始权重\n",
    "W = np.array([0.5, 1, -1, 0])\n",
    "\n",
    "def train_perceptron(X, D, W, lr):\n",
    "    epoch = 0\n",
    "    error = True\n",
    "\n",
    "    while error:\n",
    "        error = False\n",
    "        for i in range(len(D)):\n",
    "            WX = np.dot(W, X[i])\n",
    "            o = np.sign(WX)\n",
    "            if o != D[i]:\n",
    "                error = True\n",
    "                delta_W = lr * (D[i] - o) * X[i]\n",
    "                ##print(f'Epoch {epoch}: Update weights with delta_W: {delta_W}')\n",
    "                display(HTML(f'<span style=\"color: #888888;\">Epoch {epoch}: Update weights with delta_W: {delta_W}</span>'))\n",
    "                W += delta_W\n",
    "                print(f'Updated weights: {W}')\n",
    "                print(\"-----------------------------------------------------------\")\n",
    "        \n",
    "        epoch += 1\n",
    "        if not error:\n",
    "            print(f'Training completed in {epoch} epochs.')\n",
    "            break\n",
    "        elif epoch > 100:  # 防止无限循环，设置最大迭代次数\n",
    "            print('Training did not converge within the maximum number of epochs.')\n",
    "            break\n",
    "\n",
    "train_perceptron(X, D, W, lr)\n",
    "\n",
    "# 测试训练后的权重\n",
    "for i in range(len(D)):\n",
    "    WX = np.dot(W, X[i])\n",
    "    o = np.sign(WX)\n",
    "    print(f\"Input {i+1}, Output: {o}, Expected: {D[i]}\")"
   ]
  },
  {
   "cell_type": "markdown",
   "id": "f1d81f91-4aba-4765-8a88-14638ecc8e93",
   "metadata": {},
   "source": [
    "#### 能够自动学习的单层感知机，通过训练建立AND、OR、NAND逻辑反应能力"
   ]
  },
  {
   "cell_type": "code",
   "execution_count": 12,
   "id": "d582c491-c0ba-498e-a4ef-b484cb2409d3",
   "metadata": {},
   "outputs": [
    {
     "name": "stdout",
     "output_type": "stream",
     "text": [
      "----------------AND逻辑响应----------------\n",
      "训练后的权重、偏置：[0.2 0.1]-0.200\n",
      "输入数据:\n",
      " [[0 0]\n",
      " [0 1]\n",
      " [1 0]\n",
      " [1 1]]\n",
      "期望结果: [0 0 0 1]\n",
      "推理结果: [0 0 0 1]\n",
      "----------------OR逻辑响应----------------\n",
      "训练后的权重、偏置：[0.1 0.1],-0.100\n",
      "输入数据:\n",
      " [[0 0]\n",
      " [0 1]\n",
      " [1 0]\n",
      " [1 1]]\n",
      "期望结果: [0 1 1 1]\n",
      "推理结果: [0 1 1 1]\n",
      "----------------NAND逻辑响应----------------\n",
      "训练后的权重、偏置：[-0.2 -0.1],0.200\n",
      "输入数据:\n",
      " [[0 0]\n",
      " [0 1]\n",
      " [1 0]\n",
      " [1 1]]\n",
      "期望结果: [1 1 1 0]\n",
      "推理结果: [1 1 1 0]\n"
     ]
    }
   ],
   "source": [
    "# 二维输入的单节点感知器处理AND、OR、NAND逻辑响应。\n",
    "# 同样的程序，用不同期望值训练自动改变权重、偏置后，同一个网络实现了不同的数据响应能力。\n",
    "\n",
    "import numpy as np\n",
    "\n",
    "class Perceptron:\n",
    "    def __init__(self, learning_rate=0.01, n_iterations=1000):\n",
    "        self.learning_rate = learning_rate\n",
    "        self.n_iterations = n_iterations\n",
    "        self.weights = None\n",
    "        self.bias = None\n",
    "\n",
    "    def fit(self, X, y):\n",
    "        n_samples, n_features = X.shape\n",
    "        \n",
    "        # 初始化权重和偏置\n",
    "        self.weights = np.zeros(n_features)\n",
    "        self.bias = 0\n",
    "\n",
    "        # 迭代训练\n",
    "        for _ in range(self.n_iterations):\n",
    "            for idx, x_i in enumerate(X):\n",
    "                # 计算线性组合\n",
    "                linear_output = np.dot(x_i, self.weights) + self.bias\n",
    "                # 激活函数（阶跃函数）\n",
    "                y_predicted = self._unit_step_function(linear_output)\n",
    "\n",
    "                # 更新权重和偏置\n",
    "                update = self.learning_rate * (y[idx] - y_predicted)\n",
    "                self.weights += update * x_i\n",
    "                self.bias += update\n",
    "\n",
    "    def predict(self, X):\n",
    "        linear_output = np.dot(X, self.weights) + self.bias\n",
    "        y_predicted = self._unit_step_function(linear_output)\n",
    "        return y_predicted\n",
    "\n",
    "    def _unit_step_function(self, x):\n",
    "        return np.where(x >= 0, 1, 0)\n",
    "\n",
    "if __name__ == \"__main__\":\n",
    "    # 4组2维输入数据\n",
    "    X = np.array([[0, 0], [0, 1], [1, 0], [1, 1]])\n",
    "\n",
    "    y = np.array([0, 0, 0, 1])  # AND 逻辑对应各输入的期望输出\n",
    "    p = Perceptron(learning_rate=0.1, n_iterations=100)\n",
    "    p.fit(X, y)\n",
    "    print(\"----------------AND逻辑响应----------------\")\n",
    "    print(f\"训练后的权重、偏置：{p.weights}{p.bias:.3f}\")\n",
    "    print(\"输入数据:\\n\", X)\n",
    "    print(\"期望结果:\", y)\n",
    "    print(\"推理结果:\", p.predict(X))\n",
    "\n",
    "    y = np.array([0, 1, 1, 1])  # OR 逻辑对应各输入的期望输出\n",
    "    p = Perceptron(learning_rate=0.1, n_iterations=100)\n",
    "    p.fit(X, y)\n",
    "    print(\"----------------OR逻辑响应----------------\")\n",
    "    print(f\"训练后的权重、偏置：{p.weights},{p.bias:.3f}\")\n",
    "    print(\"输入数据:\\n\", X)\n",
    "    print(\"期望结果:\", y)\n",
    "    print(\"推理结果:\", p.predict(X))\n",
    "\n",
    "    y = np.array([1, 1, 1, 0])  # NAND 逻辑对应各输入的期望输出\n",
    "    p = Perceptron(learning_rate=0.1, n_iterations=100)\n",
    "    p.fit(X, y)\n",
    "    print(\"----------------NAND逻辑响应----------------\")\n",
    "    print(f\"训练后的权重、偏置：{p.weights},{p.bias:.3f}\")\n",
    "    print(\"输入数据:\\n\", X)\n",
    "    print(\"期望结果:\", y)\n",
    "    print(\"推理结果:\", p.predict(X))"
   ]
  },
  {
   "cell_type": "markdown",
   "id": "3252c9ee-2a54-48ae-bb12-14d34c31d1f5",
   "metadata": {},
   "source": [
    "#### 能够自动学习的单层感知机，训练获得AND、OR、NAND逻辑反应能力（显示权值变化过程）"
   ]
  },
  {
   "cell_type": "code",
   "execution_count": 4,
   "id": "7ac3c5b0-ce88-4f5b-9faa-d63704da16c9",
   "metadata": {},
   "outputs": [
    {
     "name": "stdout",
     "output_type": "stream",
     "text": [
      "Epoch 1\n",
      "Step 1\n",
      "当前权值与偏置： [0. 0.] 0.0\n",
      "输入、期望输出、实际输出: [0. 0.] 0.0 0.0\n",
      "修正后权值与偏置： [0. 0.] 0.0\n",
      "\n",
      "Step 2\n",
      "当前权值与偏置： [0. 0.] 0.0\n",
      "输入、期望输出、实际输出: [0. 1.] 1.0 0.0\n",
      "修正后权值与偏置： [0.  0.1] 0.1\n",
      "\n",
      "Step 3\n",
      "当前权值与偏置： [0.  0.1] 0.1\n",
      "输入、期望输出、实际输出: [1. 0.] 1.0 1.0\n",
      "修正后权值与偏置： [0.  0.1] 0.1\n",
      "\n",
      "Step 4\n",
      "当前权值与偏置： [0.  0.1] 0.1\n",
      "输入、期望输出、实际输出: [1. 1.] 1.0 1.0\n",
      "修正后权值与偏置： [0.  0.1] 0.1\n",
      "\n",
      "Epoch 2\n",
      "Step 1\n",
      "当前权值与偏置： [0.  0.1] 0.1\n",
      "输入、期望输出、实际输出: [0. 0.] 0.0 1.0\n",
      "修正后权值与偏置： [0.  0.1] 0.0\n",
      "\n",
      "Step 2\n",
      "当前权值与偏置： [0.  0.1] 0.0\n",
      "输入、期望输出、实际输出: [0. 1.] 1.0 1.0\n",
      "修正后权值与偏置： [0.  0.1] 0.0\n",
      "\n",
      "Step 3\n",
      "当前权值与偏置： [0.  0.1] 0.0\n",
      "输入、期望输出、实际输出: [1. 0.] 1.0 0.0\n",
      "修正后权值与偏置： [0.1 0.1] 0.1\n",
      "\n",
      "Step 4\n",
      "当前权值与偏置： [0.1 0.1] 0.1\n",
      "输入、期望输出、实际输出: [1. 1.] 1.0 1.0\n",
      "修正后权值与偏置： [0.1 0.1] 0.1\n",
      "\n",
      "Epoch 3\n",
      "Step 1\n",
      "当前权值与偏置： [0.1 0.1] 0.1\n",
      "输入、期望输出、实际输出: [0. 0.] 0.0 1.0\n",
      "修正后权值与偏置： [0.1 0.1] 0.0\n",
      "\n",
      "Step 2\n",
      "当前权值与偏置： [0.1 0.1] 0.0\n",
      "输入、期望输出、实际输出: [0. 1.] 1.0 1.0\n",
      "修正后权值与偏置： [0.1 0.1] 0.0\n",
      "\n",
      "Step 3\n",
      "当前权值与偏置： [0.1 0.1] 0.0\n",
      "输入、期望输出、实际输出: [1. 0.] 1.0 1.0\n",
      "修正后权值与偏置： [0.1 0.1] 0.0\n",
      "\n",
      "Step 4\n",
      "当前权值与偏置： [0.1 0.1] 0.0\n",
      "输入、期望输出、实际输出: [1. 1.] 1.0 1.0\n",
      "修正后权值与偏置： [0.1 0.1] 0.0\n",
      "\n",
      "Epoch 4\n",
      "Step 1\n",
      "当前权值与偏置： [0.1 0.1] 0.0\n",
      "输入、期望输出、实际输出: [0. 0.] 0.0 0.0\n",
      "修正后权值与偏置： [0.1 0.1] 0.0\n",
      "\n",
      "Step 2\n",
      "当前权值与偏置： [0.1 0.1] 0.0\n",
      "输入、期望输出、实际输出: [0. 1.] 1.0 1.0\n",
      "修正后权值与偏置： [0.1 0.1] 0.0\n",
      "\n",
      "Step 3\n",
      "当前权值与偏置： [0.1 0.1] 0.0\n",
      "输入、期望输出、实际输出: [1. 0.] 1.0 1.0\n",
      "修正后权值与偏置： [0.1 0.1] 0.0\n",
      "\n",
      "Step 4\n",
      "当前权值与偏置： [0.1 0.1] 0.0\n",
      "输入、期望输出、实际输出: [1. 1.] 1.0 1.0\n",
      "修正后权值与偏置： [0.1 0.1] 0.0\n",
      "\n",
      "所有样本均正确分类，训练结束。\n",
      "最终权值与偏置： [0.1 0.1] 0.0\n"
     ]
    }
   ],
   "source": [
    "# 具有学习能力的单层感知机，训练获得AND、OR、NAND逻辑反应能力\n",
    "\n",
    "# 单层2输入单节点在有监督数据下学习响应符合AND、OR、NAND逻辑数据集\n",
    "# 学习的过程就是在预期数据直到小，用输入数据各分量的一部分（学习率）去加减权值向量各分量、偏置分量，从而旋转权值向量方向、移动权值向量决定超平面旋转角度，对数据空间中符合预期的数据集进行有效分隔。\n",
    "# 学习的有效分隔还取决于泛化能力，也就是被强制对齐输出后间接影响到的那些数据集，这才是学习有效性的最终目的。此例中体现不明显，需要注意。\n",
    "\n",
    "import numpy as np\n",
    "\n",
    "# 初始化\n",
    "# X矩阵表示各输入向量\n",
    "X = np.array([[0.0, 0.0], [0.0, 1.0], [1.0, 0.0], [1.0, 1.0]], dtype='f')\n",
    "# Y向量表示各输入向量期望的输出（AND逻辑）\n",
    "#y = np.array([0.0, 0.0, 0.0, 1.0], dtype='f')  # AND逻辑\n",
    "y = np.array([0.0, 1.0, 1.0, 1.0], dtype='f')  # OR逻辑\n",
    "#y = np.array([1.0, 1.0, 1.0, 0.0], dtype='f')  # NAND逻辑\n",
    "# W向量表示权重\n",
    "W = np.zeros(2, dtype='f')\n",
    "# bias表示偏置\n",
    "bias = 0.0\n",
    "# lr表示学习率\n",
    "lr = 0.1\n",
    "\n",
    "def sgn(x):\n",
    "    return 1.0 if x > 0 else 0.0\n",
    "\n",
    "# 训练过程\n",
    "epoch = 0\n",
    "max_epochs = 1000  # 设置最大训练轮次数以防止无限循环\n",
    "all_correct = False\n",
    "\n",
    "while not all_correct and epoch < max_epochs:\n",
    "    all_correct = True\n",
    "    print(f\"Epoch {epoch + 1}\")\n",
    "    \n",
    "    for i in range(len(X)):\n",
    "        # 计算加权和并应用激活函数\n",
    "        net_input = np.dot(X[i], W) + bias\n",
    "        out = sgn(net_input)\n",
    "        \n",
    "        print(f\"Step {i+1}\")\n",
    "        print(\"当前权值与偏置：\", W, bias)\n",
    "        print(\"输入、期望输出、实际输出:\", X[i], y[i], out)\n",
    "\n",
    "        # 更新规则 - 感知机学习算法\n",
    "        error = y[i] - out\n",
    "        if error != 0:  # 如果有误差，则更新权重和偏置\n",
    "            all_correct = False\n",
    "            W += lr * error * X[i]\n",
    "            bias += lr * error\n",
    "        \n",
    "        print(\"修正后权值与偏置：\", W, bias)\n",
    "        print()\n",
    "    \n",
    "    epoch += 1\n",
    "    \n",
    "    if all_correct:\n",
    "        print(\"所有样本均正确分类，训练结束。\")\n",
    "        break\n",
    "else:\n",
    "    print(\"达到最大训练轮次，训练结束。\")\n",
    "\n",
    "print(\"最终权值与偏置：\", W, bias)"
   ]
  },
  {
   "cell_type": "markdown",
   "id": "523c7396-1b4d-499f-acbd-fbb5372bcf5b",
   "metadata": {},
   "source": [
    "#### 能够自动学习的单层感知机，训练获得AND、OR、NAND逻辑反应能力（权值变化曲线可视化）"
   ]
  },
  {
   "cell_type": "code",
   "execution_count": 5,
   "id": "0d5213fe-6d99-4022-b0a9-80858e8625ba",
   "metadata": {},
   "outputs": [
    {
     "name": "stdout",
     "output_type": "stream",
     "text": [
      "Epoch 1\n",
      "Step 1\n",
      "当前权值与偏置： [0. 0.] 偏置:0.000\n",
      "输入: [0. 0.] , 期望输出: 1.0 , 实际输出: 0.0\n",
      "修正后权值与偏置： [0. 0.] 偏置: 0.100\n",
      "\n",
      "Step 2\n",
      "当前权值与偏置： [0. 0.] 偏置:0.100\n",
      "输入: [0. 1.] , 期望输出: 1.0 , 实际输出: 1.0\n",
      "\n",
      "Step 3\n",
      "当前权值与偏置： [0. 0.] 偏置:0.100\n",
      "输入: [1. 0.] , 期望输出: 1.0 , 实际输出: 1.0\n",
      "\n",
      "Step 4\n",
      "当前权值与偏置： [0. 0.] 偏置:0.100\n",
      "输入: [1. 1.] , 期望输出: 0.0 , 实际输出: 1.0\n",
      "修正后权值与偏置： [-0.1 -0.1] 偏置: 0.000\n",
      "\n",
      "Epoch 2\n",
      "Step 1\n",
      "当前权值与偏置： [-0.1 -0.1] 偏置:0.000\n",
      "输入: [0. 0.] , 期望输出: 1.0 , 实际输出: 0.0\n",
      "修正后权值与偏置： [-0.1 -0.1] 偏置: 0.100\n",
      "\n",
      "Step 2\n",
      "当前权值与偏置： [-0.1 -0.1] 偏置:0.100\n",
      "输入: [0. 1.] , 期望输出: 1.0 , 实际输出: 0.0\n",
      "修正后权值与偏置： [-0.1  0. ] 偏置: 0.200\n",
      "\n",
      "Step 3\n",
      "当前权值与偏置： [-0.1  0. ] 偏置:0.200\n",
      "输入: [1. 0.] , 期望输出: 1.0 , 实际输出: 1.0\n",
      "\n",
      "Step 4\n",
      "当前权值与偏置： [-0.1  0. ] 偏置:0.200\n",
      "输入: [1. 1.] , 期望输出: 0.0 , 实际输出: 1.0\n",
      "修正后权值与偏置： [-0.2 -0.1] 偏置: 0.100\n",
      "\n",
      "Epoch 3\n",
      "Step 1\n",
      "当前权值与偏置： [-0.2 -0.1] 偏置:0.100\n",
      "输入: [0. 0.] , 期望输出: 1.0 , 实际输出: 1.0\n",
      "\n",
      "Step 2\n",
      "当前权值与偏置： [-0.2 -0.1] 偏置:0.100\n",
      "输入: [0. 1.] , 期望输出: 1.0 , 实际输出: 0.0\n",
      "修正后权值与偏置： [-0.2  0. ] 偏置: 0.200\n",
      "\n",
      "Step 3\n",
      "当前权值与偏置： [-0.2  0. ] 偏置:0.200\n",
      "输入: [1. 0.] , 期望输出: 1.0 , 实际输出: 0.0\n",
      "修正后权值与偏置： [-0.1  0. ] 偏置: 0.300\n",
      "\n",
      "Step 4\n",
      "当前权值与偏置： [-0.1  0. ] 偏置:0.300\n",
      "输入: [1. 1.] , 期望输出: 0.0 , 实际输出: 1.0\n",
      "修正后权值与偏置： [-0.2 -0.1] 偏置: 0.200\n",
      "\n",
      "Epoch 4\n",
      "Step 1\n",
      "当前权值与偏置： [-0.2 -0.1] 偏置:0.200\n",
      "输入: [0. 0.] , 期望输出: 1.0 , 实际输出: 1.0\n",
      "\n",
      "Step 2\n",
      "当前权值与偏置： [-0.2 -0.1] 偏置:0.200\n",
      "输入: [0. 1.] , 期望输出: 1.0 , 实际输出: 1.0\n",
      "\n",
      "Step 3\n",
      "当前权值与偏置： [-0.2 -0.1] 偏置:0.200\n",
      "输入: [1. 0.] , 期望输出: 1.0 , 实际输出: 0.0\n",
      "修正后权值与偏置： [-0.1 -0.1] 偏置: 0.300\n",
      "\n",
      "Step 4\n",
      "当前权值与偏置： [-0.1 -0.1] 偏置:0.300\n",
      "输入: [1. 1.] , 期望输出: 0.0 , 实际输出: 1.0\n",
      "修正后权值与偏置： [-0.2 -0.2] 偏置: 0.200\n",
      "\n",
      "Epoch 5\n",
      "Step 1\n",
      "当前权值与偏置： [-0.2 -0.2] 偏置:0.200\n",
      "输入: [0. 0.] , 期望输出: 1.0 , 实际输出: 1.0\n",
      "\n",
      "Step 2\n",
      "当前权值与偏置： [-0.2 -0.2] 偏置:0.200\n",
      "输入: [0. 1.] , 期望输出: 1.0 , 实际输出: 0.0\n",
      "修正后权值与偏置： [-0.2 -0.1] 偏置: 0.300\n",
      "\n",
      "Step 3\n",
      "当前权值与偏置： [-0.2 -0.1] 偏置:0.300\n",
      "输入: [1. 0.] , 期望输出: 1.0 , 实际输出: 1.0\n",
      "\n",
      "Step 4\n",
      "当前权值与偏置： [-0.2 -0.1] 偏置:0.300\n",
      "输入: [1. 1.] , 期望输出: 0.0 , 实际输出: 0.0\n",
      "\n",
      "Epoch 6\n",
      "Step 1\n",
      "当前权值与偏置： [-0.2 -0.1] 偏置:0.300\n",
      "输入: [0. 0.] , 期望输出: 1.0 , 实际输出: 1.0\n",
      "\n",
      "Step 2\n",
      "当前权值与偏置： [-0.2 -0.1] 偏置:0.300\n",
      "输入: [0. 1.] , 期望输出: 1.0 , 实际输出: 1.0\n",
      "\n",
      "Step 3\n",
      "当前权值与偏置： [-0.2 -0.1] 偏置:0.300\n",
      "输入: [1. 0.] , 期望输出: 1.0 , 实际输出: 1.0\n",
      "\n",
      "Step 4\n",
      "当前权值与偏置： [-0.2 -0.1] 偏置:0.300\n",
      "输入: [1. 1.] , 期望输出: 0.0 , 实际输出: 0.0\n",
      "\n",
      "所有样本均正确分类，训练结束。\n",
      "\n",
      "最终权值与偏置： [-0.2 -0.1] 偏置: 0.300\n"
     ]
    },
    {
     "data": {
      "image/png": "[encoded data removed]",
      "text/plain": [
       "<Figure size 1500x500 with 2 Axes>"
      ]
     },
     "metadata": {},
     "output_type": "display_data"
    }
   ],
   "source": [
    "# 单层两输入单神经元解决AND、OR、NAND权值变化过程可视化，这个程序与上面程序权值更新逻辑一样，代码复杂性是由于增加可视化功能导致，非本章节关注点。\n",
    "\n",
    "import numpy as np\n",
    "import matplotlib.pyplot as plt\n",
    "\n",
    "# 初始化\n",
    "X = np.array([[0.0, 0.0], [0.0, 1.0], [1.0, 0.0], [1.0, 1.0]], dtype='f')\n",
    "#y = np.array([0.0, 0.0, 0.0, 1.0], dtype='f')  # AND逻辑\n",
    "#y = np.array([0.0, 1.0, 1.0, 1.0], dtype='f')  # OR逻辑\n",
    "y = np.array([1.0, 1.0, 1.0, 0.0], dtype='f')  # NAND逻辑\n",
    "W = np.zeros(2, dtype='f')\n",
    "bias = 0.0\n",
    "lr = 0.1\n",
    "sgn = lambda x: 1.0 if x > 0 else 0.0\n",
    "\n",
    "# 训练过程\n",
    "epoch = 0\n",
    "max_epochs = 1000\n",
    "all_correct = False\n",
    "weights_history = []\n",
    "\n",
    "while not all_correct and epoch < max_epochs:\n",
    "    all_correct = True\n",
    "    print(f\"Epoch {epoch + 1}\")\n",
    "    \n",
    "    for i in range(len(X)):\n",
    "        # 计算加权和并应用激活函数\n",
    "        net_input = np.dot(X[i], W) + bias\n",
    "        out = sgn(net_input)\n",
    "        \n",
    "        # 打印当前状态\n",
    "        print(f\"Step {i+1}\")\n",
    "        print(\"当前权值与偏置：\", W, f\"偏置:{bias:.3f}\")\n",
    "        print(\"输入:\", X[i], \", 期望输出:\", y[i], \", 实际输出:\", out)\n",
    "\n",
    "        # 更新规则 - 感知机学习算法\n",
    "        error = y[i] - out\n",
    "        if error != 0:  # 如果有误差，则更新权重和偏置\n",
    "            all_correct = False\n",
    "            W += lr * error * X[i]\n",
    "            bias += lr * error\n",
    "            \n",
    "            # 添加到历史记录\n",
    "            weights_history.append((W.copy(), bias))\n",
    "            \n",
    "            # 打印修正后的权值和偏置\n",
    "            print(\"修正后权值与偏置：\", W, f\"偏置: {bias:.3f}\")\n",
    "        print()\n",
    "\n",
    "    epoch += 1\n",
    "    \n",
    "    if all_correct:\n",
    "        print(\"所有样本均正确分类，训练结束。\\n\")\n",
    "        break\n",
    "else:\n",
    "    print(\"达到最大训练轮次，训练结束。\\n\")\n",
    "\n",
    "print(\"最终权值与偏置：\", W, f\"偏置: {bias:.3f}\")\n",
    "\n",
    "# 绘制权值变化过程\n",
    "plt.figure(figsize=(15, 5))\n",
    "\n",
    "# 子图1：权值变化过程\n",
    "plt.subplot(1, 2, 1)\n",
    "w_hist = np.array([wh[0] for wh in weights_history])\n",
    "plt.plot(w_hist[:, 0], label=\"W1\")\n",
    "plt.plot(w_hist[:, 1], label=\"W2\")\n",
    "plt.xlabel('Iteration')\n",
    "plt.ylabel('Weight Value')\n",
    "plt.title('Weight Change Over Iterations')\n",
    "plt.legend()\n",
    "\n",
    "# 子图2：最终权重、偏置的向量、超平面对各个输入向量的分隔情况\n",
    "plt.subplot(1, 2, 2)\n",
    "\n",
    "# 绘制输入点\n",
    "colors = ['red' if yi == 0 else 'blue' for yi in y]\n",
    "plt.scatter(X[:, 0], X[:, 1], c=colors)\n",
    "\n",
    "# 最终权重和偏置\n",
    "final_W, final_bias = weights_history[-1]\n",
    "\n",
    "# 超平面方程为 W[0]*x + W[1]*y + bias = 0\n",
    "# 解出 y 的表达式用于绘制直线\n",
    "x_values = np.linspace(-0.5, 1.5, 100)\n",
    "y_values = (-final_W[0] * x_values - final_bias) / final_W[1]\n",
    "plt.plot(x_values, y_values, 'g-', label='Decision Boundary')\n",
    "\n",
    "plt.xlim([-0.5, 1.5])\n",
    "plt.ylim([-0.5, 1.5])\n",
    "plt.axhline(0, color='black',linewidth=0.5)\n",
    "plt.axvline(0, color='black',linewidth=0.5)\n",
    "plt.grid(color = 'gray', linestyle = '--', linewidth = 0.2)\n",
    "plt.title('Final Weights and Decision Boundary')\n",
    "plt.legend()\n",
    "\n",
    "plt.show()"
   ]
  },
  {
   "cell_type": "markdown",
   "id": "1b0edd39-a219-4ab7-b652-5178ed7ffc4f",
   "metadata": {},
   "source": [
    "#### 能够自动学习的单层感知机，训练获得AND、OR、NAND逻辑反应能力（权值超平面移动动画）"
   ]
  },
  {
   "cell_type": "code",
   "execution_count": 6,
   "id": "73e7acc3-625d-4872-b613-f5c92033f870",
   "metadata": {},
   "outputs": [
    {
     "name": "stderr",
     "output_type": "stream",
     "text": [
      "Warning: Ignoring XDG_SESSION_TYPE=wayland on Gnome. Use QT_QPA_PLATFORM=wayland to run on Wayland anyway.\n",
      "libGL error: MESA-LOADER: failed to open iris: /usr/lib/dri/iris_dri.so: cannot open shared object file: No such file or directory (search paths /usr/lib/x86_64-linux-gnu/dri:\\$${ORIGIN}/dri:/usr/lib/dri, suffix _dri)\n",
      "libGL error: failed to load driver: iris\n",
      "libGL error: MESA-LOADER: failed to open swrast: /usr/lib/dri/swrast_dri.so: cannot open shared object file: No such file or directory (search paths /usr/lib/x86_64-linux-gnu/dri:\\$${ORIGIN}/dri:/usr/lib/dri, suffix _dri)\n",
      "libGL error: failed to load driver: swrast\n"
     ]
    },
    {
     "name": "stdout",
     "output_type": "stream",
     "text": [
      "Epoch 1\n",
      "Step 1\n",
      "当前权值与偏置： [0. 0.] 偏置:, 0.000\n",
      "输入: [0. 0.] , 期望输出: 0.0 , 实际输出: 0.0\n",
      "Step 2\n",
      "当前权值与偏置： [0. 0.] 偏置:, 0.000\n",
      "输入: [0. 1.] , 期望输出: 0.0 , 实际输出: 0.0\n",
      "Step 3\n",
      "当前权值与偏置： [0. 0.] 偏置:, 0.000\n",
      "输入: [1. 0.] , 期望输出: 0.0 , 实际输出: 0.0\n",
      "Step 4\n",
      "当前权值与偏置： [0. 0.] 偏置:, 0.000\n",
      "输入: [1. 1.] , 期望输出: 1.0 , 实际输出: 0.0\n",
      "修正后权值与偏置： [0.1 0.1] 偏置:, 0.100\n",
      "\n",
      "Epoch 2\n",
      "Step 1\n",
      "当前权值与偏置： [0.1 0.1] 偏置:, 0.100\n",
      "输入: [0. 0.] , 期望输出: 0.0 , 实际输出: 1.0\n",
      "修正后权值与偏置： [0.1 0.1] 偏置:, 0.000\n",
      "\n",
      "Step 2\n",
      "当前权值与偏置： [0.1 0.1] 偏置:, 0.000\n",
      "输入: [0. 1.] , 期望输出: 0.0 , 实际输出: 1.0\n",
      "修正后权值与偏置： [0.1 0. ] 偏置:, -0.100\n",
      "\n",
      "Step 3\n",
      "当前权值与偏置： [0.1 0. ] 偏置:, -0.100\n",
      "输入: [1. 0.] , 期望输出: 0.0 , 实际输出: 1.0\n",
      "修正后权值与偏置： [0. 0.] 偏置:, -0.200\n",
      "\n",
      "Step 4\n",
      "当前权值与偏置： [0. 0.] 偏置:, -0.200\n",
      "输入: [1. 1.] , 期望输出: 1.0 , 实际输出: 0.0\n",
      "修正后权值与偏置： [0.1 0.1] 偏置:, -0.100\n",
      "\n",
      "Epoch 3\n",
      "Step 1\n",
      "当前权值与偏置： [0.1 0.1] 偏置:, -0.100\n",
      "输入: [0. 0.] , 期望输出: 0.0 , 实际输出: 0.0\n",
      "Step 2\n",
      "当前权值与偏置： [0.1 0.1] 偏置:, -0.100\n",
      "输入: [0. 1.] , 期望输出: 0.0 , 实际输出: 1.0\n",
      "修正后权值与偏置： [0.1 0. ] 偏置:, -0.200\n",
      "\n",
      "Step 3\n",
      "当前权值与偏置： [0.1 0. ] 偏置:, -0.200\n",
      "输入: [1. 0.] , 期望输出: 0.0 , 实际输出: 0.0\n",
      "Step 4\n",
      "当前权值与偏置： [0.1 0. ] 偏置:, -0.200\n",
      "输入: [1. 1.] , 期望输出: 1.0 , 实际输出: 0.0\n",
      "修正后权值与偏置： [0.2 0.1] 偏置:, -0.100\n",
      "\n",
      "Epoch 4\n",
      "Step 1\n",
      "当前权值与偏置： [0.2 0.1] 偏置:, -0.100\n",
      "输入: [0. 0.] , 期望输出: 0.0 , 实际输出: 0.0\n",
      "Step 2\n",
      "当前权值与偏置： [0.2 0.1] 偏置:, -0.100\n",
      "输入: [0. 1.] , 期望输出: 0.0 , 实际输出: 1.0\n",
      "修正后权值与偏置： [0.2 0. ] 偏置:, -0.200\n",
      "\n",
      "Step 3\n",
      "当前权值与偏置： [0.2 0. ] 偏置:, -0.200\n",
      "输入: [1. 0.] , 期望输出: 0.0 , 实际输出: 1.0\n",
      "修正后权值与偏置： [0.1 0. ] 偏置:, -0.300\n",
      "\n",
      "Step 4\n",
      "当前权值与偏置： [0.1 0. ] 偏置:, -0.300\n",
      "输入: [1. 1.] , 期望输出: 1.0 , 实际输出: 0.0\n",
      "修正后权值与偏置： [0.2 0.1] 偏置:, -0.200\n",
      "\n",
      "Epoch 5\n",
      "Step 1\n",
      "当前权值与偏置： [0.2 0.1] 偏置:, -0.200\n",
      "输入: [0. 0.] , 期望输出: 0.0 , 实际输出: 0.0\n",
      "Step 2\n",
      "当前权值与偏置： [0.2 0.1] 偏置:, -0.200\n",
      "输入: [0. 1.] , 期望输出: 0.0 , 实际输出: 0.0\n",
      "Step 3\n",
      "当前权值与偏置： [0.2 0.1] 偏置:, -0.200\n",
      "输入: [1. 0.] , 期望输出: 0.0 , 实际输出: 1.0\n",
      "修正后权值与偏置： [0.1 0.1] 偏置:, -0.300\n",
      "\n",
      "Step 4\n",
      "当前权值与偏置： [0.1 0.1] 偏置:, -0.300\n",
      "输入: [1. 1.] , 期望输出: 1.0 , 实际输出: 0.0\n",
      "修正后权值与偏置： [0.2 0.2] 偏置:, -0.200\n",
      "\n",
      "Epoch 6\n",
      "Step 1\n",
      "当前权值与偏置： [0.2 0.2] 偏置:, -0.200\n",
      "输入: [0. 0.] , 期望输出: 0.0 , 实际输出: 0.0\n",
      "Step 2\n",
      "当前权值与偏置： [0.2 0.2] 偏置:, -0.200\n",
      "输入: [0. 1.] , 期望输出: 0.0 , 实际输出: 1.0\n",
      "修正后权值与偏置： [0.2 0.1] 偏置:, -0.300\n",
      "\n",
      "Step 3\n",
      "当前权值与偏置： [0.2 0.1] 偏置:, -0.300\n",
      "输入: [1. 0.] , 期望输出: 0.0 , 实际输出: 0.0\n",
      "Step 4\n",
      "当前权值与偏置： [0.2 0.1] 偏置:, -0.300\n",
      "输入: [1. 1.] , 期望输出: 1.0 , 实际输出: 1.0\n",
      "Epoch 7\n",
      "Step 1\n",
      "当前权值与偏置： [0.2 0.1] 偏置:, -0.300\n",
      "输入: [0. 0.] , 期望输出: 0.0 , 实际输出: 0.0\n",
      "Step 2\n",
      "当前权值与偏置： [0.2 0.1] 偏置:, -0.300\n",
      "输入: [0. 1.] , 期望输出: 0.0 , 实际输出: 0.0\n",
      "Step 3\n",
      "当前权值与偏置： [0.2 0.1] 偏置:, -0.300\n",
      "输入: [1. 0.] , 期望输出: 0.0 , 实际输出: 0.0\n",
      "Step 4\n",
      "当前权值与偏置： [0.2 0.1] 偏置:, -0.300\n",
      "输入: [1. 1.] , 期望输出: 1.0 , 实际输出: 1.0\n",
      "所有样本均正确分类，训练结束。\n",
      "\n",
      "最终权值与偏置： [0.2 0.1] 偏置:, -0.300\n"
     ]
    }
   ],
   "source": [
    "# 单层、单神经元学习AND、OR、NAND逻辑响应，训练过程权值向量超平面分步动画可视化\n",
    "\n",
    "import numpy as np\n",
    "import matplotlib.pyplot as plt\n",
    "from time import sleep\n",
    "%matplotlib qt5\n",
    "\n",
    "# 初始化\n",
    "X = np.array([[0.0, 0.0], [0.0, 1.0], [1.0, 0.0], [1.0, 1.0]], dtype='f')\n",
    "y = np.array([0.0, 0.0, 0.0, 1.0], dtype='f')  # AND逻辑\n",
    "W = np.zeros(2, dtype='f')\n",
    "bias = 0.0\n",
    "lr = 0.1\n",
    "sgn = lambda x: 1.0 if x > 0 else 0.0\n",
    "\n",
    "# 训练过程\n",
    "epoch = 0\n",
    "max_epochs = 100\n",
    "all_correct = False\n",
    "weights_history = []\n",
    "\n",
    "# 准备绘图\n",
    "fig, ax = plt.subplots(figsize=(8, 8))\n",
    "ax.set_xlim([-5.5, 5.5])\n",
    "ax.set_ylim([-5.5, 5.5])\n",
    "ax.axhline(0, color='black', linewidth=0.5)\n",
    "ax.axvline(0, color='black', linewidth=0.5)\n",
    "ax.grid(color='gray', linestyle='--', linewidth=0.2)\n",
    "\n",
    "# 绘制输入点\n",
    "colors = ['red' if yi == 0 else 'blue' for yi in y]\n",
    "scatter = ax.scatter(X[:, 0], X[:, 1], c=colors)\n",
    "\n",
    "# 预先创建超平面线，并设置初始数据为不可见\n",
    "x_values = np.linspace(-1.5, 1.5, 100)\n",
    "y_values = np.zeros_like(x_values)  # 初始的y值可以是任意的，因为它们将被覆盖\n",
    "(line,) = ax.plot(x_values, y_values, color='green', lw=2)\n",
    "\n",
    "# 创建权值向量箭头\n",
    "quiver = ax.quiver(0, 0, W[0], W[1], angles='xy', scale_units='xy', scale=1, color='orange')\n",
    "\n",
    "def update_plot(w, b, step):\n",
    "    \"\"\"Update the plot with new weights and bias.\"\"\"\n",
    "    global line, quiver\n",
    "    \n",
    "    # 更新超平面\n",
    "    if w[1] != 0:\n",
    "        y_values = (-w[0] * x_values - b) / w[1]\n",
    "    elif w[0] != 0:\n",
    "        y_values = np.full_like(x_values, -b/w[0])\n",
    "    else:\n",
    "        y_values = np.full_like(x_values, 0)  # 如果权重都是0，默认为水平线\n",
    "    \n",
    "    line.set_data(x_values, y_values)\n",
    "    \n",
    "    # 更新权值向量箭头\n",
    "    quiver.remove()\n",
    "    quiver = ax.quiver(0, 0, w[0], w[1], angles='xy', scale_units='xy', scale=1, color='orange')\n",
    "    \n",
    "    fig.suptitle(f'Step {step}: Weights = {w}, Bias = {b:.2f}')\n",
    "    \n",
    "    # 更新图像以反映更改\n",
    "    plt.draw()\n",
    "    plt.pause(0.5)  # 暂停一段时间以便观察变化\n",
    "\n",
    "while not all_correct and epoch < max_epochs:\n",
    "    all_correct = True\n",
    "    print(f\"Epoch {epoch + 1}\")\n",
    "    \n",
    "    for i in range(len(X)):\n",
    "        net_input = np.dot(X[i], W) + bias\n",
    "        out = sgn(net_input)\n",
    "        \n",
    "        print(f\"Step {i+1}\")\n",
    "        print(\"当前权值与偏置：\", W, f\"偏置:, {bias:.3f}\")\n",
    "        print(\"输入:\", X[i], \", 期望输出:\", y[i], \", 实际输出:\", out)\n",
    "\n",
    "        error = y[i] - out\n",
    "        if error != 0:\n",
    "            all_correct = False\n",
    "            W += lr * error * X[i]\n",
    "            bias += lr * error\n",
    "            \n",
    "            # 添加到历史记录并更新绘图\n",
    "            weights_history.append((W.copy(), bias))\n",
    "            \n",
    "            # 打印修正后的权值和偏置\n",
    "            print(\"修正后权值与偏置：\", W, f\"偏置:, {bias:.3f}\")\n",
    "            print()\n",
    "            \n",
    "            # 更新绘图\n",
    "            update_plot(W, bias, f\"{epoch + 1}.{i + 1}\")\n",
    "\n",
    "            # 保存图像（可选）\n",
    "            # plt.savefig(f'step_{epoch + 1}_{i + 1}.png')\n",
    "        \n",
    "        # 增加延时以便观察\n",
    "        sleep(0.5)\n",
    "\n",
    "    epoch += 1\n",
    "    \n",
    "    if all_correct:\n",
    "        print(\"所有样本均正确分类，训练结束。\\n\")\n",
    "        break\n",
    "else:\n",
    "    print(\"达到最大训练轮次，训练结束。\\n\")\n",
    "\n",
    "print(\"最终权值与偏置：\", W, f\"偏置:, {bias:.3f}\")\n",
    "\n",
    "plt.show()"
   ]
  },
  {
   "cell_type": "markdown",
   "id": "8e1d009f-110f-4cf5-8316-6fe03ae59b1f",
   "metadata": {},
   "source": [
    "#### 使用pytorch包编写的单层感知机，解决AND、OR、NAND问题"
   ]
  },
  {
   "cell_type": "code",
   "execution_count": 9,
   "id": "c3fed148-c357-4259-9632-79db97701c05",
   "metadata": {},
   "outputs": [
    {
     "name": "stdout",
     "output_type": "stream",
     "text": [
      "Training AND gate:\n"
     ]
    },
    {
     "data": {
      "text/html": [
       "<span style=\"color: #888888;\">Epoch [0/1000], Loss: 0.6614</span>"
      ],
      "text/plain": [
       "<IPython.core.display.HTML object>"
      ]
     },
     "metadata": {},
     "output_type": "display_data"
    },
    {
     "data": {
      "text/html": [
       "<span style=\"color: #888888;\">Epoch [100/1000], Loss: 0.4513</span>"
      ],
      "text/plain": [
       "<IPython.core.display.HTML object>"
      ]
     },
     "metadata": {},
     "output_type": "display_data"
    },
    {
     "data": {
      "text/html": [
       "<span style=\"color: #888888;\">Epoch [200/1000], Loss: 0.3567</span>"
      ],
      "text/plain": [
       "<IPython.core.display.HTML object>"
      ]
     },
     "metadata": {},
     "output_type": "display_data"
    },
    {
     "data": {
      "text/html": [
       "<span style=\"color: #888888;\">Epoch [300/1000], Loss: 0.2975</span>"
      ],
      "text/plain": [
       "<IPython.core.display.HTML object>"
      ]
     },
     "metadata": {},
     "output_type": "display_data"
    },
    {
     "data": {
      "text/html": [
       "<span style=\"color: #888888;\">Epoch [400/1000], Loss: 0.2564</span>"
      ],
      "text/plain": [
       "<IPython.core.display.HTML object>"
      ]
     },
     "metadata": {},
     "output_type": "display_data"
    },
    {
     "data": {
      "text/html": [
       "<span style=\"color: #888888;\">Epoch [500/1000], Loss: 0.2259</span>"
      ],
      "text/plain": [
       "<IPython.core.display.HTML object>"
      ]
     },
     "metadata": {},
     "output_type": "display_data"
    },
    {
     "data": {
      "text/html": [
       "<span style=\"color: #888888;\">Epoch [600/1000], Loss: 0.2021</span>"
      ],
      "text/plain": [
       "<IPython.core.display.HTML object>"
      ]
     },
     "metadata": {},
     "output_type": "display_data"
    },
    {
     "data": {
      "text/html": [
       "<span style=\"color: #888888;\">Epoch [700/1000], Loss: 0.1830</span>"
      ],
      "text/plain": [
       "<IPython.core.display.HTML object>"
      ]
     },
     "metadata": {},
     "output_type": "display_data"
    },
    {
     "data": {
      "text/html": [
       "<span style=\"color: #888888;\">Epoch [800/1000], Loss: 0.1672</span>"
      ],
      "text/plain": [
       "<IPython.core.display.HTML object>"
      ]
     },
     "metadata": {},
     "output_type": "display_data"
    },
    {
     "data": {
      "text/html": [
       "<span style=\"color: #888888;\">Epoch [900/1000], Loss: 0.1539</span>"
      ],
      "text/plain": [
       "<IPython.core.display.HTML object>"
      ]
     },
     "metadata": {},
     "output_type": "display_data"
    },
    {
     "name": "stdout",
     "output_type": "stream",
     "text": [
      "Accuracy: 100.00%\n",
      "\n",
      "Training OR gate:\n"
     ]
    },
    {
     "data": {
      "text/html": [
       "<span style=\"color: #888888;\">Epoch [0/1000], Loss: 1.0138</span>"
      ],
      "text/plain": [
       "<IPython.core.display.HTML object>"
      ]
     },
     "metadata": {},
     "output_type": "display_data"
    },
    {
     "data": {
      "text/html": [
       "<span style=\"color: #888888;\">Epoch [100/1000], Loss: 0.1184</span>"
      ],
      "text/plain": [
       "<IPython.core.display.HTML object>"
      ]
     },
     "metadata": {},
     "output_type": "display_data"
    },
    {
     "data": {
      "text/html": [
       "<span style=\"color: #888888;\">Epoch [200/1000], Loss: 0.0748</span>"
      ],
      "text/plain": [
       "<IPython.core.display.HTML object>"
      ]
     },
     "metadata": {},
     "output_type": "display_data"
    },
    {
     "data": {
      "text/html": [
       "<span style=\"color: #888888;\">Epoch [300/1000], Loss: 0.0644</span>"
      ],
      "text/plain": [
       "<IPython.core.display.HTML object>"
      ]
     },
     "metadata": {},
     "output_type": "display_data"
    },
    {
     "data": {
      "text/html": [
       "<span style=\"color: #888888;\">Epoch [400/1000], Loss: 0.0593</span>"
      ],
      "text/plain": [
       "<IPython.core.display.HTML object>"
      ]
     },
     "metadata": {},
     "output_type": "display_data"
    },
    {
     "data": {
      "text/html": [
       "<span style=\"color: #888888;\">Epoch [500/1000], Loss: 0.0556</span>"
      ],
      "text/plain": [
       "<IPython.core.display.HTML object>"
      ]
     },
     "metadata": {},
     "output_type": "display_data"
    },
    {
     "data": {
      "text/html": [
       "<span style=\"color: #888888;\">Epoch [600/1000], Loss: 0.0525</span>"
      ],
      "text/plain": [
       "<IPython.core.display.HTML object>"
      ]
     },
     "metadata": {},
     "output_type": "display_data"
    },
    {
     "data": {
      "text/html": [
       "<span style=\"color: #888888;\">Epoch [700/1000], Loss: 0.0498</span>"
      ],
      "text/plain": [
       "<IPython.core.display.HTML object>"
      ]
     },
     "metadata": {},
     "output_type": "display_data"
    },
    {
     "data": {
      "text/html": [
       "<span style=\"color: #888888;\">Epoch [800/1000], Loss: 0.0473</span>"
      ],
      "text/plain": [
       "<IPython.core.display.HTML object>"
      ]
     },
     "metadata": {},
     "output_type": "display_data"
    },
    {
     "data": {
      "text/html": [
       "<span style=\"color: #888888;\">Epoch [900/1000], Loss: 0.0451</span>"
      ],
      "text/plain": [
       "<IPython.core.display.HTML object>"
      ]
     },
     "metadata": {},
     "output_type": "display_data"
    },
    {
     "name": "stdout",
     "output_type": "stream",
     "text": [
      "Accuracy: 100.00%\n",
      "\n",
      "Training NAND gate:\n"
     ]
    },
    {
     "data": {
      "text/html": [
       "<span style=\"color: #888888;\">Epoch [0/1000], Loss: 2.8153</span>"
      ],
      "text/plain": [
       "<IPython.core.display.HTML object>"
      ]
     },
     "metadata": {},
     "output_type": "display_data"
    },
    {
     "data": {
      "text/html": [
       "<span style=\"color: #888888;\">Epoch [100/1000], Loss: 1.8132</span>"
      ],
      "text/plain": [
       "<IPython.core.display.HTML object>"
      ]
     },
     "metadata": {},
     "output_type": "display_data"
    },
    {
     "data": {
      "text/html": [
       "<span style=\"color: #888888;\">Epoch [200/1000], Loss: 1.1236</span>"
      ],
      "text/plain": [
       "<IPython.core.display.HTML object>"
      ]
     },
     "metadata": {},
     "output_type": "display_data"
    },
    {
     "data": {
      "text/html": [
       "<span style=\"color: #888888;\">Epoch [300/1000], Loss: 0.7019</span>"
      ],
      "text/plain": [
       "<IPython.core.display.HTML object>"
      ]
     },
     "metadata": {},
     "output_type": "display_data"
    },
    {
     "data": {
      "text/html": [
       "<span style=\"color: #888888;\">Epoch [400/1000], Loss: 0.4901</span>"
      ],
      "text/plain": [
       "<IPython.core.display.HTML object>"
      ]
     },
     "metadata": {},
     "output_type": "display_data"
    },
    {
     "data": {
      "text/html": [
       "<span style=\"color: #888888;\">Epoch [500/1000], Loss: 0.3792</span>"
      ],
      "text/plain": [
       "<IPython.core.display.HTML object>"
      ]
     },
     "metadata": {},
     "output_type": "display_data"
    },
    {
     "data": {
      "text/html": [
       "<span style=\"color: #888888;\">Epoch [600/1000], Loss: 0.3123</span>"
      ],
      "text/plain": [
       "<IPython.core.display.HTML object>"
      ]
     },
     "metadata": {},
     "output_type": "display_data"
    },
    {
     "data": {
      "text/html": [
       "<span style=\"color: #888888;\">Epoch [700/1000], Loss: 0.2670</span>"
      ],
      "text/plain": [
       "<IPython.core.display.HTML object>"
      ]
     },
     "metadata": {},
     "output_type": "display_data"
    },
    {
     "data": {
      "text/html": [
       "<span style=\"color: #888888;\">Epoch [800/1000], Loss: 0.2339</span>"
      ],
      "text/plain": [
       "<IPython.core.display.HTML object>"
      ]
     },
     "metadata": {},
     "output_type": "display_data"
    },
    {
     "data": {
      "text/html": [
       "<span style=\"color: #888888;\">Epoch [900/1000], Loss: 0.2084</span>"
      ],
      "text/plain": [
       "<IPython.core.display.HTML object>"
      ]
     },
     "metadata": {},
     "output_type": "display_data"
    },
    {
     "name": "stdout",
     "output_type": "stream",
     "text": [
      "Accuracy: 100.00%\n"
     ]
    }
   ],
   "source": [
    "# 使用pytorch包编写的单层感知机，解决AND、OR、NAND问题。为了使用自动反向推导，输出函数从阶跃函数改为可导的sigmod函数\n",
    "# 使用专门的程序包，可以方便的建立各种神经网络，但因为封装其工作原理也越不直观。\n",
    "\n",
    "import torch\n",
    "import torch.nn as nn\n",
    "import torch.optim as optim\n",
    "from IPython.display import display, HTML\n",
    "\n",
    "# 定义MP神经元类，使用Sigmoid激活函数\n",
    "class MPNeuron(nn.Module):\n",
    "    def __init__(self):\n",
    "        super(MPNeuron, self).__init__()\n",
    "        # 由于我们处理的是逻辑运算，权重和偏置可以通过学习得到\n",
    "        self.linear = nn.Linear(2, 1)\n",
    "        self.activation = nn.Sigmoid()\n",
    "\n",
    "    def forward(self, x):\n",
    "        x = self.linear(x)\n",
    "        return self.activation(x)\n",
    "\n",
    "# 训练函数\n",
    "def train(model, data, targets, epochs=1000, lr=0.1):\n",
    "    criterion = nn.BCELoss()  # 二分类交叉熵损失\n",
    "    optimizer = optim.SGD(model.parameters(), lr=lr)\n",
    "\n",
    "    for epoch in range(epochs):\n",
    "        optimizer.zero_grad()\n",
    "        outputs = model(data).squeeze()\n",
    "        loss = criterion(outputs, targets)\n",
    "        loss.backward()\n",
    "        optimizer.step()\n",
    "\n",
    "        if epoch % 100 == 0:\n",
    "            #print(f'Epoch [{epoch}/{epochs}], Loss: {loss.item():.4f}')\n",
    "            display(HTML(f'<span style=\"color: #888888;\">Epoch [{epoch}/{epochs}], Loss: {loss.item():.4f}</span>'))\n",
    "\n",
    "# 测试函数\n",
    "def test(model, data, targets):\n",
    "    with torch.no_grad():\n",
    "        outputs = model(data).squeeze()\n",
    "        predicted = (outputs >= 0.5).float()\n",
    "        accuracy = (predicted == targets).sum().item() / targets.size(0)\n",
    "        print(f'Accuracy: {accuracy * 100:.2f}%')\n",
    "\n",
    "# 准备数据集\n",
    "data = torch.tensor([[0., 0], [0, 1], [1, 0], [1, 1]], dtype=torch.float32)\n",
    "\n",
    "# AND逻辑门的标签\n",
    "targets_and = torch.tensor([0., 0., 0., 1.], dtype=torch.float32)\n",
    "\n",
    "# OR逻辑门的标签\n",
    "targets_or = torch.tensor([0., 1., 1., 1.], dtype=torch.float32)\n",
    "\n",
    "# NAND逻辑门的标签\n",
    "targets_nand = torch.tensor([1., 1., 1., 0.], dtype=torch.float32)\n",
    "\n",
    "# 创建模型实例并训练\n",
    "model = MPNeuron()\n",
    "\n",
    "print(\"Training AND gate:\")\n",
    "train(model, data, targets_and)\n",
    "test(model, data, targets_and)\n",
    "\n",
    "print(\"\\nTraining OR gate:\")\n",
    "train(model, data, targets_or)\n",
    "test(model, data, targets_or)\n",
    "\n",
    "print(\"\\nTraining NAND gate:\")\n",
    "train(model, data, targets_nand)\n",
    "test(model, data, targets_nand)"
   ]
  },
  {
   "cell_type": "markdown",
   "id": "93f625bb-92f0-45d1-93be-3164f15c9638",
   "metadata": {},
   "source": []
  }
 ],
 "metadata": {
  "kernelspec": {
   "display_name": "pytorch",
   "language": "python",
   "name": "pytorch"
  },
  "language_info": {
   "codemirror_mode": {
    "name": "ipython",
    "version": 3
   },
   "file_extension": ".py",
   "mimetype": "text/x-python",
   "name": "python",
   "nbconvert_exporter": "python",
   "pygments_lexer": "ipython3",
   "version": "3.11.7"
  }
 },
 "nbformat": 4,
 "nbformat_minor": 5
}
